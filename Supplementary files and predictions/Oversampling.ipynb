{
 "cells": [
  {
   "cell_type": "code",
   "execution_count": 48,
   "metadata": {},
   "outputs": [],
   "source": [
    "import numpy as np\n",
    "import pandas as pd\n",
    "import math\n",
    "from matplotlib import pyplot as plt\n",
    "import seaborn as sns\n",
    "%matplotlib inline\n",
    "\n",
    "from sklearn.pipeline import Pipeline\n",
    "from sklearn.preprocessing import StandardScaler, scale\n",
    "from sklearn.model_selection import KFold, train_test_split\n",
    "from sklearn.metrics import classification_report, accuracy_score, confusion_matrix, f1_score\n",
    "from sklearn.decomposition import PCA\n",
    "\n",
    "from sklearn.neural_network import MLPClassifier\n",
    "from sklearn.naive_bayes import GaussianNB\n",
    "from sklearn.neighbors import KNeighborsClassifier\n",
    "from sklearn.tree import DecisionTreeClassifier\n",
    "from sklearn.linear_model import LogisticRegression\n",
    "from sklearn.ensemble import RandomForestClassifier\n",
    "import time\n",
    "\n",
    "pd.options.display.width = 1200\n",
    "pd.options.display.max_colwidth = 100\n",
    "pd.options.display.max_columns = 100\n",
    "pd.options.display.max_rows = 67"
   ]
  },
  {
   "cell_type": "code",
   "execution_count": 21,
   "metadata": {},
   "outputs": [],
   "source": [
    "data = pd.read_pickle(\"Features\")"
   ]
  },
  {
   "cell_type": "markdown",
   "metadata": {},
   "source": [
    "<h3>Oversampling</h3>"
   ]
  },
  {
   "cell_type": "code",
   "execution_count": 23,
   "metadata": {},
   "outputs": [],
   "source": [
    "from imblearn.over_sampling import SMOTE"
   ]
  },
  {
   "cell_type": "code",
   "execution_count": 52,
   "metadata": {},
   "outputs": [],
   "source": [
    "X = data.drop(columns='Class')\n",
    "y = data[\"Class\"]\n",
    "\n",
    "X_smote, y_smote = SMOTE(sampling_strategy='minority').fit_resample(X, y)\n",
    "\n",
    "X_train, X_test, y_train, y_test = train_test_split(X_smote, y_smote, test_size=0.2, random_state=42)\n",
    "data_combined = X_smote\n",
    "data_combined[\"Class\"]=y_smote\n",
    "data_combined"
   ]
  },
  {
   "cell_type": "code",
   "execution_count": 56,
   "metadata": {},
   "outputs": [],
   "source": [
    "data_combined.to_pickle(\"data_combined\")"
   ]
  },
  {
   "cell_type": "code",
   "execution_count": 53,
   "metadata": {},
   "outputs": [
    {
     "data": {
      "image/png": "[encoded data removed]",
      "text/plain": [
       "<Figure size 432x288 with 1 Axes>"
      ]
     },
     "metadata": {
      "needs_background": "light"
     },
     "output_type": "display_data"
    },
    {
     "data": {
      "text/plain": [
       "BLOSUM4    -0.017391\n",
       "KF3        -0.044206\n",
       "BLOSUM7     0.170388\n",
       "VHSE4       0.469780\n",
       "ProtFP7    -0.440846\n",
       "BLOSUM1     0.230947\n",
       "Z3          0.039359\n",
       "VHSE8       1.294106\n",
       "ST7         0.423336\n",
       "T4         -0.069511\n",
       "F4         -0.200102\n",
       "T2         -0.156131\n",
       "BLOSUM3     0.605743\n",
       "BLOSUM10    0.114619\n",
       "KF1         0.298286\n",
       "dtype: float64"
      ]
     },
     "execution_count": 53,
     "metadata": {},
     "output_type": "execute_result"
    }
   ],
   "source": [
    "sns.countplot(x=\"Class\",data=data_combined, order = data_combined[\"Class\"].value_counts().index)\n",
    "plt.title(\"Combined number of classes\")\n",
    "plt.show()\n",
    "\n",
    "data_combined.skew()"
   ]
  },
  {
   "cell_type": "code",
   "execution_count": 54,
   "metadata": {},
   "outputs": [],
   "source": [
    "state=42\n",
    "classifiers ={\n",
    "    \"Naive Bayes\" : GaussianNB(),\n",
    "    \"Decision Tree\" : DecisionTreeClassifier(random_state=state),\n",
    "    \"MLP Classifier\" : MLPClassifier(max_iter=1000, random_state=state),\n",
    "    \"Logistic Regression\" : LogisticRegression(max_iter=1000, random_state=state),\n",
    "    \"K Neighbors Classifier\" : KNeighborsClassifier(),\n",
    "}"
   ]
  },
  {
   "cell_type": "code",
   "execution_count": 55,
   "metadata": {},
   "outputs": [
    {
     "name": "stdout",
     "output_type": "stream",
     "text": [
      ".................................\n",
      "Naive Bayes 0.638990560585629\n",
      "Classification Report for GaussianNB() :\n",
      "               precision    recall  f1-score   support\n",
      "\n",
      "    Negative       0.61      0.75      0.68      2602\n",
      "    Positive       0.68      0.53      0.59      2589\n",
      "\n",
      "    accuracy                           0.64      5191\n",
      "   macro avg       0.65      0.64      0.63      5191\n",
      "weighted avg       0.65      0.64      0.63      5191\n",
      "\n",
      "True Negatives: 1951\n",
      "False Negatives 1223\n",
      "True Positives 1366\n",
      "False Positive 651\n",
      "\n",
      "F1 Score: 0.5931393834129397\n",
      "\n",
      "Accuracy_score: 0.638990560585629\n",
      ".................................\n",
      "Decision Tree 0.9007898285494125\n",
      "Classification Report for DecisionTreeClassifier(random_state=42) :\n",
      "               precision    recall  f1-score   support\n",
      "\n",
      "    Negative       0.89      0.92      0.90      2602\n",
      "    Positive       0.91      0.88      0.90      2589\n",
      "\n",
      "    accuracy                           0.90      5191\n",
      "   macro avg       0.90      0.90      0.90      5191\n",
      "weighted avg       0.90      0.90      0.90      5191\n",
      "\n",
      "True Negatives: 2386\n",
      "False Negatives 299\n",
      "True Positives 2290\n",
      "False Positive 216\n",
      "\n",
      "F1 Score: 0.8989205103042199\n",
      "\n",
      "Accuracy_score: 0.9007898285494125\n",
      ".................................\n",
      "MLP Classifier 0.8377961857060297\n",
      "Classification Report for MLPClassifier(max_iter=1000, random_state=42) :\n",
      "               precision    recall  f1-score   support\n",
      "\n",
      "    Negative       0.84      0.84      0.84      2602\n",
      "    Positive       0.84      0.84      0.84      2589\n",
      "\n",
      "    accuracy                           0.84      5191\n",
      "   macro avg       0.84      0.84      0.84      5191\n",
      "weighted avg       0.84      0.84      0.84      5191\n",
      "\n",
      "True Negatives: 2186\n",
      "False Negatives 426\n",
      "True Positives 2163\n",
      "False Positive 416\n",
      "\n",
      "F1 Score: 0.8370743034055729\n",
      "\n",
      "Accuracy_score: 0.8377961857060297\n",
      ".................................\n",
      "Logistic Regression 0.6827200924677326\n",
      "Classification Report for LogisticRegression(max_iter=1000, random_state=42) :\n",
      "               precision    recall  f1-score   support\n",
      "\n",
      "    Negative       0.67      0.71      0.69      2602\n",
      "    Positive       0.69      0.66      0.67      2589\n",
      "\n",
      "    accuracy                           0.68      5191\n",
      "   macro avg       0.68      0.68      0.68      5191\n",
      "weighted avg       0.68      0.68      0.68      5191\n",
      "\n",
      "True Negatives: 1848\n",
      "False Negatives 893\n",
      "True Positives 1696\n",
      "False Positive 754\n",
      "\n",
      "F1 Score: 0.6731494344115896\n",
      "\n",
      "Accuracy_score: 0.6827200924677326\n",
      ".................................\n",
      "K Neighbors Classifier 0.9225582739356579\n",
      "Classification Report for KNeighborsClassifier() :\n",
      "               precision    recall  f1-score   support\n",
      "\n",
      "    Negative       0.97      0.88      0.92      2602\n",
      "    Positive       0.89      0.97      0.93      2589\n",
      "\n",
      "    accuracy                           0.92      5191\n",
      "   macro avg       0.93      0.92      0.92      5191\n",
      "weighted avg       0.93      0.92      0.92      5191\n",
      "\n",
      "True Negatives: 2281\n",
      "False Negatives 81\n",
      "True Positives 2508\n",
      "False Positive 321\n",
      "\n",
      "F1 Score: 0.9258028792912514\n",
      "\n",
      "Accuracy_score: 0.9225582739356579\n"
     ]
    }
   ],
   "source": [
    "for x, y in enumerate(classifiers):\n",
    "    model = classifiers[y]\n",
    "    model.fit(X_train,y_train)\n",
    "    \n",
    "    y_pred = model.predict(X_test)\n",
    "\n",
    "    print(\".................................\")\n",
    "    print(y, model.score(X_test, y_test))\n",
    "    print(\"Classification Report for\",classifiers[y],\":\\n\", classification_report(y_test, y_pred))\n",
    "    tn, fp, fn, tp = confusion_matrix(y_test, y_pred).ravel()\n",
    "    print(\"True Negatives:\",tn)\n",
    "    print(\"False Negatives\",fn)\n",
    "    print(\"True Positives\",tp) \n",
    "    print(\"False Positive\",fp)\n",
    "    print(\"\\nF1 Score:\",f1_score(y_test, y_pred, pos_label=\"Positive\"))\n",
    "    print(\"\\nAccuracy_score:\",accuracy_score(y_test, y_pred))"
   ]
  },
  {
   "cell_type": "code",
   "execution_count": null,
   "metadata": {},
   "outputs": [],
   "source": []
  }
 ],
 "metadata": {
  "kernelspec": {
   "display_name": "Python 3",
   "language": "python",
   "name": "python3"
  },
  "language_info": {
   "codemirror_mode": {
    "name": "ipython",
    "version": 3
   },
   "file_extension": ".py",
   "mimetype": "text/x-python",
   "name": "python",
   "nbconvert_exporter": "python",
   "pygments_lexer": "ipython3",
   "version": "3.8.5"
  }
 },
 "nbformat": 4,
 "nbformat_minor": 4
}
